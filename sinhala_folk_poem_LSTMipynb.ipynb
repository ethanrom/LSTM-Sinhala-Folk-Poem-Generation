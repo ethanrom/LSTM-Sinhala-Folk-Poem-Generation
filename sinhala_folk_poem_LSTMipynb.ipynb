{
  "nbformat": 4,
  "nbformat_minor": 0,
  "metadata": {
    "colab": {
      "provenance": [],
      "authorship_tag": "ABX9TyPlmK2WROepU2inBit5BbXB",
      "include_colab_link": true
    },
    "kernelspec": {
      "name": "python3",
      "display_name": "Python 3"
    },
    "language_info": {
      "name": "python"
    }
  },
  "cells": [
    {
      "cell_type": "markdown",
      "metadata": {
        "id": "view-in-github",
        "colab_type": "text"
      },
      "source": [
        "<a href=\"https://colab.research.google.com/github/ethanrom/LSTM-Sinhala-Folk-Poem-Generation/blob/main/sinhala_folk_poem_LSTMipynb.ipynb\" target=\"_parent\"><img src=\"https://colab.research.google.com/assets/colab-badge.svg\" alt=\"Open In Colab\"/></a>"
      ]
    },
    {
      "cell_type": "code",
      "execution_count": null,
      "metadata": {
        "id": "PBJ_5FHCP9d6"
      },
      "outputs": [],
      "source": [
        "!pip install tensorflow\n",
        "!pip install keras"
      ]
    },
    {
      "cell_type": "code",
      "source": [
        "import tensorflow as tf\n",
        "from keras_preprocessing.sequence import pad_sequences\n",
        "from keras.layers import Embedding, LSTM, Dense, Dropout\n",
        "from keras.preprocessing.text import Tokenizer\n",
        "from keras.callbacks import EarlyStopping\n",
        "from keras.models import Sequential\n",
        "import numpy as np "
      ],
      "metadata": {
        "id": "3GSnGAR-UjO_"
      },
      "execution_count": null,
      "outputs": []
    },
    {
      "cell_type": "code",
      "source": [
        "# read the input file and store the poems as a list of strings\n",
        "with open(\"input.txt\", \"r\") as file:\n",
        "    text = file.read().split(\"\\n\")"
      ],
      "metadata": {
        "id": "cn6BIH8oQQum"
      },
      "execution_count": null,
      "outputs": []
    },
    {
      "cell_type": "code",
      "source": [
        "# split the poems into 4 lines each and store in a new list\n",
        "lines = []\n",
        "for poem in text:\n",
        "    poem = poem.split(\"\\n\")\n",
        "    for line in poem:\n",
        "        lines.append(line)"
      ],
      "metadata": {
        "id": "Kv8RhBaOQSrm"
      },
      "execution_count": null,
      "outputs": []
    },
    {
      "cell_type": "code",
      "source": [
        "# build the tokenizer on the lines\n",
        "tokenizer = Tokenizer()\n",
        "\n",
        "def tokenize(lines):\n",
        "    # fit the tokenizer on the lines\n",
        "    tokenizer.fit_on_texts(lines)\n",
        "    return tokenizer"
      ],
      "metadata": {
        "id": "Dc1WY7I_QWaH"
      },
      "execution_count": null,
      "outputs": []
    },
    {
      "cell_type": "code",
      "source": [
        "# convert the lines to sequences\n",
        "def get_sequence(tokenizer, max_length, lines):\n",
        "    sequences = tokenizer.texts_to_sequences(lines)\n",
        "    sequences = pad_sequences(sequences, maxlen=max_length, padding='pre')\n",
        "    return sequences"
      ],
      "metadata": {
        "id": "hkPKBwbfQXT_"
      },
      "execution_count": null,
      "outputs": []
    },
    {
      "cell_type": "code",
      "source": [
        "# get the vocabulary size\n",
        "def get_vocabulary_size(tokenizer):\n",
        "    return len(tokenizer.word_index) + 1"
      ],
      "metadata": {
        "id": "t7Rz-VYWQZ5m"
      },
      "execution_count": null,
      "outputs": []
    },
    {
      "cell_type": "code",
      "source": [
        "#generate lines\n",
        "def generate_text(model, tokenizer, max_length, seed_text, num_gen_words, temperature=1.5):\n",
        "    # Initialize the generated text\n",
        "    generated_text = seed_text\n",
        "    # Convert the seed text to numerical representation\n",
        "    input_sequence = [tokenizer.word_index[word] for word in seed_text.split()]\n",
        "    input_sequence = pad_sequences([input_sequence], maxlen=max_length, padding='pre')\n",
        "    # Get the prediction for the seed text\n",
        "    preds = model.predict(input_sequence, verbose=0)[0]\n",
        "    # Set the temperature\n",
        "    preds = np.asarray(preds).astype('float64')\n",
        "    preds = np.log(preds) / temperature\n",
        "    exp_preds = np.exp(preds)\n",
        "    preds = exp_preds / np.sum(exp_preds)\n",
        "    # Sample the next word using the temperature-modified predictions\n",
        "    next_index = np.argmax(np.random.multinomial(1, preds, 1))\n",
        "    next_word = list(tokenizer.word_index.keys())[list(tokenizer.word_index.values()).index(next_index)]\n",
        "    generated_text += \" \" + next_word\n",
        "    # Generate the remaining words\n",
        "    line_count = 1\n",
        "    for i in range(num_gen_words-1):\n",
        "        input_sequence = [tokenizer.word_index[word] for word in generated_text.split()[-max_length:]]\n",
        "        input_sequence = pad_sequences([input_sequence], maxlen=max_length, padding='pre')\n",
        "        preds = model.predict(input_sequence, verbose=0)[0]\n",
        "        preds = np.asarray(preds).astype('float64')\n",
        "        preds = np.log(preds) / temperature\n",
        "        exp_preds = np.exp(preds)\n",
        "        preds = exp_preds / np.sum(exp_preds)\n",
        "        next_index = np.argmax(np.random.multinomial(1, preds, 1))\n",
        "        next_word = list(tokenizer.word_index.keys())[list(tokenizer.word_index.values()).index(next_index)]\n",
        "        generated_text += \" \" + next_word\n",
        "        if next_word == \".\":\n",
        "            line_count += 1\n",
        "        if line_count == 4:\n",
        "            break\n",
        "    return generated_text"
      ],
      "metadata": {
        "id": "bLF0bIrTbrd9"
      },
      "execution_count": null,
      "outputs": []
    },
    {
      "cell_type": "code",
      "source": [
        "# set the hyperparameters\n",
        "max_length = 8 \n",
        "num_gen_words = 10 "
      ],
      "metadata": {
        "id": "Lf9k1W7PQd7e"
      },
      "execution_count": null,
      "outputs": []
    },
    {
      "cell_type": "code",
      "source": [
        "# get the tokenizer\n",
        "tokenizer = tokenize(lines)"
      ],
      "metadata": {
        "id": "_Vg-4PBKQ2YW"
      },
      "execution_count": null,
      "outputs": []
    },
    {
      "cell_type": "code",
      "source": [
        "# get the vocabulary size\n",
        "vocabulary_size = get_vocabulary_size(tokenizer)"
      ],
      "metadata": {
        "id": "UaPfXRJsQ5GA"
      },
      "execution_count": null,
      "outputs": []
    },
    {
      "cell_type": "code",
      "source": [
        "# get the sequences\n",
        "sequences = get_sequence(tokenizer, max_length, lines)"
      ],
      "metadata": {
        "id": "wfXUjLw1Q6Du"
      },
      "execution_count": null,
      "outputs": []
    },
    {
      "cell_type": "code",
      "source": [
        "# split the sequences into input and output\n",
        "sequences = np.array(sequences)\n",
        "X, y = sequences[:,:-1], sequences[:,-1]"
      ],
      "metadata": {
        "id": "dTbfmQ8QQ8TO"
      },
      "execution_count": null,
      "outputs": []
    },
    {
      "cell_type": "code",
      "source": [
        "# one hot encode the target\n",
        "y = tf.keras.utils.to_categorical(y, num_classes=vocabulary_size)"
      ],
      "metadata": {
        "id": "BCjtpNGwQ-Oe"
      },
      "execution_count": null,
      "outputs": []
    },
    {
      "cell_type": "code",
      "source": [
        "#split the data into train and test sets\n",
        "total_data = X.shape[0]\n",
        "split_point = int(total_data * 0.8)\n",
        "X_train, X_test = X[:split_point], X[split_point:]\n",
        "y_train, y_test = y[:split_point], y[split_point:]"
      ],
      "metadata": {
        "id": "aBSYyXOTRBCW"
      },
      "execution_count": null,
      "outputs": []
    },
    {
      "cell_type": "code",
      "source": [
        "#define the model option 1\n",
        "model = Sequential()\n",
        "model.add(Embedding(vocabulary_size, 10, input_length=max_length - 1))\n",
        "model.add(LSTM(50))\n",
        "model.add(Dropout(0.1))\n",
        "model.add(Dense(vocabulary_size, activation='softmax'))\n",
        "print(model.summary())"
      ],
      "metadata": {
        "id": "3YPTjejERNjq"
      },
      "execution_count": null,
      "outputs": []
    },
    {
      "cell_type": "code",
      "source": [
        "#define the model option 2\n",
        "model = Sequential()\n",
        "model.add(Embedding(vocabulary_size, 200, input_length=max_length-1))\n",
        "model.add(Bidirectional(LSTM(100)))\n",
        "model.add(Dense(100, activation='relu'))\n",
        "model.add(Dense(vocabulary_size, activation='softmax'))\n",
        "print(model.summary())"
      ],
      "metadata": {
        "id": "QGBlYuzBiXQ1"
      },
      "execution_count": null,
      "outputs": []
    },
    {
      "cell_type": "code",
      "source": [
        "#define the model option 3\n",
        "model = Sequential()\n",
        "model.add(Embedding(vocabulary_size, 100, input_length=max_length-1))\n",
        "model.add(LSTM(100))\n",
        "model.add(Dense(vocabulary_size, activation='softmax'))\n",
        "print(model.summary())"
      ],
      "metadata": {
        "colab": {
          "base_uri": "https://localhost:8080/"
        },
        "id": "REGkoBRuTcUv",
        "outputId": "0e0b79e3-9a8b-4d1b-ad3b-84ff696ed059"
      },
      "execution_count": null,
      "outputs": [
        {
          "output_type": "stream",
          "name": "stdout",
          "text": [
            "Model: \"sequential\"\n",
            "_________________________________________________________________\n",
            " Layer (type)                Output Shape              Param #   \n",
            "=================================================================\n",
            " embedding (Embedding)       (None, 7, 100)            54900     \n",
            "                                                                 \n",
            " lstm (LSTM)                 (None, 100)               80400     \n",
            "                                                                 \n",
            " dense (Dense)               (None, 549)               55449     \n",
            "                                                                 \n",
            "=================================================================\n",
            "Total params: 190,749\n",
            "Trainable params: 190,749\n",
            "Non-trainable params: 0\n",
            "_________________________________________________________________\n",
            "None\n"
          ]
        }
      ]
    },
    {
      "cell_type": "code",
      "source": [
        "#compile the model\n",
        "model.compile(loss='categorical_crossentropy', optimizer='adam', metrics=['accuracy'])"
      ],
      "metadata": {
        "id": "_f1WZ0ouRRoA"
      },
      "execution_count": null,
      "outputs": []
    },
    {
      "cell_type": "code",
      "source": [
        "#set the early stopping criteria alt\n",
        "earlystop = EarlyStopping(monitor='val_loss', min_delta=0, patience=5, verbose=0, mode='auto')"
      ],
      "metadata": {
        "id": "T5MT-806Tqw6"
      },
      "execution_count": null,
      "outputs": []
    },
    {
      "cell_type": "code",
      "source": [
        "#fit the model alt\n",
        "model.fit(X, y, batch_size=32, epochs=10, verbose=1, callbacks=[earlystop])"
      ],
      "metadata": {
        "colab": {
          "base_uri": "https://localhost:8080/"
        },
        "id": "Bo3-10S4T2gQ",
        "outputId": "c7a4b00f-3b7e-485d-9445-42376e09e9a3"
      },
      "execution_count": null,
      "outputs": [
        {
          "output_type": "stream",
          "name": "stdout",
          "text": [
            "Epoch 1/10\n",
            "5/6 [========================>.....] - ETA: 0s - loss: 2.9575 - accuracy: 0.4062"
          ]
        },
        {
          "output_type": "stream",
          "name": "stderr",
          "text": [
            "WARNING:tensorflow:Early stopping conditioned on metric `val_loss` which is not available. Available metrics are: loss,accuracy\n"
          ]
        },
        {
          "output_type": "stream",
          "name": "stdout",
          "text": [
            "\b\b\b\b\b\b\b\b\b\b\b\b\b\b\b\b\b\b\b\b\b\b\b\b\b\b\b\b\b\b\b\b\b\b\b\b\b\b\b\b\b\b\b\b\b\b\b\b\b\b\b\b\b\b\b\b\b\b\b\b\b\b\b\b\b\b\b\b\b\b\b\b\b\b\b\b\b\b\b\b\r6/6 [==============================] - 0s 28ms/step - loss: 2.9535 - accuracy: 0.4085\n",
            "Epoch 2/10\n",
            "5/6 [========================>.....] - ETA: 0s - loss: 2.8577 - accuracy: 0.4437"
          ]
        },
        {
          "output_type": "stream",
          "name": "stderr",
          "text": [
            "WARNING:tensorflow:Early stopping conditioned on metric `val_loss` which is not available. Available metrics are: loss,accuracy\n"
          ]
        },
        {
          "output_type": "stream",
          "name": "stdout",
          "text": [
            "\b\b\b\b\b\b\b\b\b\b\b\b\b\b\b\b\b\b\b\b\b\b\b\b\b\b\b\b\b\b\b\b\b\b\b\b\b\b\b\b\b\b\b\b\b\b\b\b\b\b\b\b\b\b\b\b\b\b\b\b\b\b\b\b\b\b\b\b\b\b\b\b\b\b\b\b\b\b\b\b\r6/6 [==============================] - 0s 38ms/step - loss: 2.8727 - accuracy: 0.4451\n",
            "Epoch 3/10\n",
            "6/6 [==============================] - ETA: 0s - loss: 2.7957 - accuracy: 0.4573"
          ]
        },
        {
          "output_type": "stream",
          "name": "stderr",
          "text": [
            "WARNING:tensorflow:Early stopping conditioned on metric `val_loss` which is not available. Available metrics are: loss,accuracy\n"
          ]
        },
        {
          "output_type": "stream",
          "name": "stdout",
          "text": [
            "\b\b\b\b\b\b\b\b\b\b\b\b\b\b\b\b\b\b\b\b\b\b\b\b\b\b\b\b\b\b\b\b\b\b\b\b\b\b\b\b\b\b\b\b\b\b\b\b\b\b\b\b\b\b\b\b\b\b\b\b\b\b\b\b\b\b\b\b\b\b\b\b\b\b\b\b\b\b\b\b\r6/6 [==============================] - 0s 41ms/step - loss: 2.7957 - accuracy: 0.4573\n",
            "Epoch 4/10\n",
            "4/6 [===================>..........] - ETA: 0s - loss: 2.6674 - accuracy: 0.4688"
          ]
        },
        {
          "output_type": "stream",
          "name": "stderr",
          "text": [
            "WARNING:tensorflow:Early stopping conditioned on metric `val_loss` which is not available. Available metrics are: loss,accuracy\n"
          ]
        },
        {
          "output_type": "stream",
          "name": "stdout",
          "text": [
            "\b\b\b\b\b\b\b\b\b\b\b\b\b\b\b\b\b\b\b\b\b\b\b\b\b\b\b\b\b\b\b\b\b\b\b\b\b\b\b\b\b\b\b\b\b\b\b\b\b\b\b\b\b\b\b\b\b\b\b\b\b\b\b\b\b\b\b\b\b\b\b\b\b\b\b\b\b\b\b\b\r6/6 [==============================] - 0s 18ms/step - loss: 2.7186 - accuracy: 0.4573\n",
            "Epoch 5/10\n",
            "4/6 [===================>..........] - ETA: 0s - loss: 2.6022 - accuracy: 0.4609"
          ]
        },
        {
          "output_type": "stream",
          "name": "stderr",
          "text": [
            "WARNING:tensorflow:Early stopping conditioned on metric `val_loss` which is not available. Available metrics are: loss,accuracy\n"
          ]
        },
        {
          "output_type": "stream",
          "name": "stdout",
          "text": [
            "\b\b\b\b\b\b\b\b\b\b\b\b\b\b\b\b\b\b\b\b\b\b\b\b\b\b\b\b\b\b\b\b\b\b\b\b\b\b\b\b\b\b\b\b\b\b\b\b\b\b\b\b\b\b\b\b\b\b\b\b\b\b\b\b\b\b\b\b\b\b\b\b\b\b\b\b\b\b\b\b\r6/6 [==============================] - 0s 18ms/step - loss: 2.6551 - accuracy: 0.4634\n",
            "Epoch 6/10\n",
            "5/6 [========================>.....] - ETA: 0s - loss: 2.5792 - accuracy: 0.4750"
          ]
        },
        {
          "output_type": "stream",
          "name": "stderr",
          "text": [
            "WARNING:tensorflow:Early stopping conditioned on metric `val_loss` which is not available. Available metrics are: loss,accuracy\n"
          ]
        },
        {
          "output_type": "stream",
          "name": "stdout",
          "text": [
            "\b\b\b\b\b\b\b\b\b\b\b\b\b\b\b\b\b\b\b\b\b\b\b\b\b\b\b\b\b\b\b\b\b\b\b\b\b\b\b\b\b\b\b\b\b\b\b\b\b\b\b\b\b\b\b\b\b\b\b\b\b\b\b\b\b\b\b\b\b\b\b\b\b\b\b\b\b\b\b\b\r6/6 [==============================] - 0s 15ms/step - loss: 2.5804 - accuracy: 0.4695\n",
            "Epoch 7/10\n",
            "5/6 [========================>.....] - ETA: 0s - loss: 2.4982 - accuracy: 0.5125"
          ]
        },
        {
          "output_type": "stream",
          "name": "stderr",
          "text": [
            "WARNING:tensorflow:Early stopping conditioned on metric `val_loss` which is not available. Available metrics are: loss,accuracy\n"
          ]
        },
        {
          "output_type": "stream",
          "name": "stdout",
          "text": [
            "\b\b\b\b\b\b\b\b\b\b\b\b\b\b\b\b\b\b\b\b\b\b\b\b\b\b\b\b\b\b\b\b\b\b\b\b\b\b\b\b\b\b\b\b\b\b\b\b\b\b\b\b\b\b\b\b\b\b\b\b\b\b\b\b\b\b\b\b\b\b\b\b\b\b\b\b\b\b\b\b\r6/6 [==============================] - 0s 16ms/step - loss: 2.5105 - accuracy: 0.5061\n",
            "Epoch 8/10\n",
            "5/6 [========================>.....] - ETA: 0s - loss: 2.4468 - accuracy: 0.5688"
          ]
        },
        {
          "output_type": "stream",
          "name": "stderr",
          "text": [
            "WARNING:tensorflow:Early stopping conditioned on metric `val_loss` which is not available. Available metrics are: loss,accuracy\n"
          ]
        },
        {
          "output_type": "stream",
          "name": "stdout",
          "text": [
            "\b\b\b\b\b\b\b\b\b\b\b\b\b\b\b\b\b\b\b\b\b\b\b\b\b\b\b\b\b\b\b\b\b\b\b\b\b\b\b\b\b\b\b\b\b\b\b\b\b\b\b\b\b\b\b\b\b\b\b\b\b\b\b\b\b\b\b\b\b\b\b\b\b\b\b\b\b\b\b\b\r6/6 [==============================] - 0s 15ms/step - loss: 2.4412 - accuracy: 0.5671\n",
            "Epoch 9/10\n",
            "5/6 [========================>.....] - ETA: 0s - loss: 2.3591 - accuracy: 0.5875"
          ]
        },
        {
          "output_type": "stream",
          "name": "stderr",
          "text": [
            "WARNING:tensorflow:Early stopping conditioned on metric `val_loss` which is not available. Available metrics are: loss,accuracy\n"
          ]
        },
        {
          "output_type": "stream",
          "name": "stdout",
          "text": [
            "\b\b\b\b\b\b\b\b\b\b\b\b\b\b\b\b\b\b\b\b\b\b\b\b\b\b\b\b\b\b\b\b\b\b\b\b\b\b\b\b\b\b\b\b\b\b\b\b\b\b\b\b\b\b\b\b\b\b\b\b\b\b\b\b\b\b\b\b\b\b\b\b\b\b\b\b\b\b\b\b\r6/6 [==============================] - 0s 16ms/step - loss: 2.3726 - accuracy: 0.5854\n",
            "Epoch 10/10\n",
            "5/6 [========================>.....] - ETA: 0s - loss: 2.2958 - accuracy: 0.6250"
          ]
        },
        {
          "output_type": "stream",
          "name": "stderr",
          "text": [
            "WARNING:tensorflow:Early stopping conditioned on metric `val_loss` which is not available. Available metrics are: loss,accuracy\n"
          ]
        },
        {
          "output_type": "stream",
          "name": "stdout",
          "text": [
            "\b\b\b\b\b\b\b\b\b\b\b\b\b\b\b\b\b\b\b\b\b\b\b\b\b\b\b\b\b\b\b\b\b\b\b\b\b\b\b\b\b\b\b\b\b\b\b\b\b\b\b\b\b\b\b\b\b\b\b\b\b\b\b\b\b\b\b\b\b\b\b\b\b\b\b\b\b\b\b\b\r6/6 [==============================] - 0s 15ms/step - loss: 2.3042 - accuracy: 0.6159\n"
          ]
        },
        {
          "output_type": "execute_result",
          "data": {
            "text/plain": [
              "<keras.callbacks.History at 0x7f69775be2b0>"
            ]
          },
          "metadata": {},
          "execution_count": 31
        }
      ]
    },
    {
      "cell_type": "code",
      "source": [
        "#evaluate the model alt\n",
        "_, accuracy = model.evaluate(X, y, verbose=0)\n",
        "print(\"Accuracy: %.2f\" % (accuracy*100))"
      ],
      "metadata": {
        "colab": {
          "base_uri": "https://localhost:8080/"
        },
        "id": "h4lyERIxT97G",
        "outputId": "61d88907-4da6-4d67-f547-072f9cf73559"
      },
      "execution_count": null,
      "outputs": [
        {
          "output_type": "stream",
          "name": "stdout",
          "text": [
            "Accuracy: 62.20\n"
          ]
        }
      ]
    },
    {
      "cell_type": "code",
      "source": [
        "#generate a poem\n",
        "\n",
        "seed_text = \"සඳුන් සුවඳ විහිදෙයි වට\"\n",
        "generated_poem = generate_text(model, tokenizer, max_length-1, seed_text, num_gen_words)\n",
        "print(\"Generated Poem:\")\n",
        "print(seed_text + generated_poem)"
      ],
      "metadata": {
        "colab": {
          "base_uri": "https://localhost:8080/"
        },
        "id": "KrUr0S3iWxoe",
        "outputId": "b1a76c19-5e0b-47e7-e6c6-4ab56276ca1d"
      },
      "execution_count": null,
      "outputs": [
        {
          "output_type": "stream",
          "name": "stdout",
          "text": [
            "Generated Poem:\n",
            "සඳුන් සුවඳ විහිදෙයි වටසඳුන් සුවඳ විහිදෙයි වට තැනින් කමතට බාන්නේ සොඳිනේ කමතා කරන්නේ වෙහෙසෙනවා පොකුණු ළඟ පපුව\n"
          ]
        }
      ]
    },
    {
      "cell_type": "code",
      "source": [
        "#generate a poem\n",
        "seed_text = \"සඳුන් සුවඳ විහිදෙයි වට\"\n",
        "generated_poem = generate_text(model, tokenizer, max_length-1, seed_text, num_gen_words)\n",
        "\n",
        "# Split the generated text into words\n",
        "words = generated_poem.split()\n",
        "\n",
        "print(\"Generated Poem:\")\n",
        "# Iterate over the first 4 words and print each line\n",
        "for i in range(4):\n",
        "    print(\" \".join(words[i:i+4]))"
      ],
      "metadata": {
        "colab": {
          "base_uri": "https://localhost:8080/"
        },
        "id": "UCFyRGREckIV",
        "outputId": "4820bae9-4ba8-4c31-8880-1f1706177117"
      },
      "execution_count": null,
      "outputs": [
        {
          "output_type": "stream",
          "name": "stdout",
          "text": [
            "Generated Poem:\n",
            "සඳුන් සුවඳ විහිදෙයි වට\n",
            "සුවඳ විහිදෙයි වට අදින්නේ\n",
            "විහිදෙයි වට අදින්නේ කමතට\n",
            "වට අදින්නේ කමතට කරන්නේ\n"
          ]
        }
      ]
    }
  ]
}