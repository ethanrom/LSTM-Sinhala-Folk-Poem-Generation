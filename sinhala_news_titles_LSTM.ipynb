{
  "nbformat": 4,
  "nbformat_minor": 0,
  "metadata": {
    "colab": {
      "provenance": [],
      "authorship_tag": "ABX9TyMzrlWaoWG5mfkU0xbQOgX3",
      "include_colab_link": true
    },
    "kernelspec": {
      "name": "python3",
      "display_name": "Python 3"
    },
    "language_info": {
      "name": "python"
    },
    "accelerator": "GPU",
    "gpuClass": "standard"
  },
  "cells": [
    {
      "cell_type": "markdown",
      "metadata": {
        "id": "view-in-github",
        "colab_type": "text"
      },
      "source": [
        "<a href=\"https://colab.research.google.com/github/ethanrom/LSTM-Sinhala-Text-Generation/blob/main/sinhala_news_titles_LSTM.ipynb\" target=\"_parent\"><img src=\"https://colab.research.google.com/assets/colab-badge.svg\" alt=\"Open In Colab\"/></a>"
      ]
    },
    {
      "cell_type": "code",
      "execution_count": null,
      "metadata": {
        "id": "PBJ_5FHCP9d6"
      },
      "outputs": [],
      "source": [
        "!pip install tensorflow\n",
        "!pip install keras"
      ]
    },
    {
      "cell_type": "code",
      "source": [
        "import tensorflow as tf\n",
        "from keras_preprocessing.sequence import pad_sequences\n",
        "from keras.layers import Embedding, LSTM, Dense, Dropout\n",
        "from keras.preprocessing.text import Tokenizer\n",
        "from keras.callbacks import EarlyStopping\n",
        "from keras.models import Sequential\n",
        "import numpy as np "
      ],
      "metadata": {
        "id": "3GSnGAR-UjO_"
      },
      "execution_count": null,
      "outputs": []
    },
    {
      "cell_type": "code",
      "source": [
        "!gdown 1R8ZRTPzlqjxfrWdqA6Me3gsJwf2AjHnp"
      ],
      "metadata": {
        "colab": {
          "base_uri": "https://localhost:8080/"
        },
        "id": "jgODzh-Pg3pI",
        "outputId": "c3c0f6dd-4645-4ba4-f26b-996a9a829da3"
      },
      "execution_count": null,
      "outputs": [
        {
          "output_type": "stream",
          "name": "stdout",
          "text": [
            "Downloading...\n",
            "From: https://drive.google.com/uc?id=1R8ZRTPzlqjxfrWdqA6Me3gsJwf2AjHnp\n",
            "To: /content/input.txt\n",
            "\r  0% 0.00/3.07M [00:00<?, ?B/s]\r100% 3.07M/3.07M [00:00<00:00, 152MB/s]\n"
          ]
        }
      ]
    },
    {
      "cell_type": "code",
      "source": [
        "# read the input file and store the poems as a list of strings\n",
        "with open(\"input.txt\", \"r\") as file:\n",
        "    text = file.read().split(\"\\n\")"
      ],
      "metadata": {
        "id": "cn6BIH8oQQum"
      },
      "execution_count": null,
      "outputs": []
    },
    {
      "cell_type": "code",
      "source": [
        "# split the poems into 4 lines each and store in a new list\n",
        "lines = []\n",
        "for poem in text:\n",
        "    poem = poem.split(\"\\n\")\n",
        "    for line in poem:\n",
        "        lines.append(line)"
      ],
      "metadata": {
        "id": "Kv8RhBaOQSrm"
      },
      "execution_count": null,
      "outputs": []
    },
    {
      "cell_type": "code",
      "source": [
        "# build the tokenizer on the lines\n",
        "tokenizer = Tokenizer()\n",
        "\n",
        "def tokenize(lines):\n",
        "    # fit the tokenizer on the lines\n",
        "    tokenizer.fit_on_texts(lines)\n",
        "    return tokenizer"
      ],
      "metadata": {
        "id": "Dc1WY7I_QWaH"
      },
      "execution_count": null,
      "outputs": []
    },
    {
      "cell_type": "code",
      "source": [
        "# convert the lines to sequences\n",
        "def get_sequence(tokenizer, max_length, lines):\n",
        "    sequences = tokenizer.texts_to_sequences(lines)\n",
        "    sequences = pad_sequences(sequences, maxlen=max_length, padding='pre')\n",
        "    return sequences"
      ],
      "metadata": {
        "id": "hkPKBwbfQXT_"
      },
      "execution_count": null,
      "outputs": []
    },
    {
      "cell_type": "code",
      "source": [
        "# get the vocabulary size\n",
        "def get_vocabulary_size(tokenizer):\n",
        "    return len(tokenizer.word_index) + 1"
      ],
      "metadata": {
        "id": "t7Rz-VYWQZ5m"
      },
      "execution_count": null,
      "outputs": []
    },
    {
      "cell_type": "code",
      "source": [
        "#generate lines\n",
        "def generate_text(model, tokenizer, max_length, seed_text, num_gen_words, temperature=1.5):\n",
        "    # Initialize the generated text\n",
        "    generated_text = seed_text\n",
        "    # Convert the seed text to numerical representation\n",
        "    input_sequence = [tokenizer.word_index[word] for word in seed_text.split()]\n",
        "    input_sequence = pad_sequences([input_sequence], maxlen=max_length, padding='pre')\n",
        "    # Get the prediction for the seed text\n",
        "    preds = model.predict(input_sequence, verbose=0)[0]\n",
        "    # Set the temperature\n",
        "    preds = np.asarray(preds).astype('float64')\n",
        "    preds = np.log(preds) / temperature\n",
        "    exp_preds = np.exp(preds)\n",
        "    preds = exp_preds / np.sum(exp_preds)\n",
        "    # Sample the next word using the temperature-modified predictions\n",
        "    next_index = np.argmax(np.random.multinomial(1, preds, 1))\n",
        "    next_word = list(tokenizer.word_index.keys())[list(tokenizer.word_index.values()).index(next_index)]\n",
        "    generated_text += \" \" + next_word\n",
        "    # Generate the remaining words\n",
        "    line_count = 1\n",
        "    for i in range(num_gen_words-1):\n",
        "        input_sequence = [tokenizer.word_index[word] for word in generated_text.split()[-max_length:]]\n",
        "        input_sequence = pad_sequences([input_sequence], maxlen=max_length, padding='pre')\n",
        "        preds = model.predict(input_sequence, verbose=0)[0]\n",
        "        preds = np.asarray(preds).astype('float64')\n",
        "        preds = np.log(preds) / temperature\n",
        "        exp_preds = np.exp(preds)\n",
        "        preds = exp_preds / np.sum(exp_preds)\n",
        "        next_index = np.argmax(np.random.multinomial(1, preds, 1))\n",
        "        next_word = list(tokenizer.word_index.keys())[list(tokenizer.word_index.values()).index(next_index)]\n",
        "        generated_text += \" \" + next_word\n",
        "        if next_word == \".\":\n",
        "            line_count += 2\n",
        "        if line_count == 1:\n",
        "            break\n",
        "    return generated_text"
      ],
      "metadata": {
        "id": "bLF0bIrTbrd9"
      },
      "execution_count": null,
      "outputs": []
    },
    {
      "cell_type": "code",
      "source": [
        "# Generate lines no line limit\n",
        "def generate_text(model, tokenizer, max_length, seed_text, num_gen_words, temperature=1.5):\n",
        "    # Initialize the generated text\n",
        "    generated_text = seed_text\n",
        "    # Convert the seed text to numerical representation\n",
        "    input_sequence = [tokenizer.word_index[word] for word in seed_text.split()]\n",
        "    input_sequence = pad_sequences([input_sequence], maxlen=max_length, padding='pre')\n",
        "    # Get the prediction for the seed text\n",
        "    preds = model.predict(input_sequence, verbose=0)[0]\n",
        "    # Set the temperature\n",
        "    preds = np.asarray(preds).astype('float64')\n",
        "    preds = np.log(preds) / temperature\n",
        "    exp_preds = np.exp(preds)\n",
        "    preds = exp_preds / np.sum(exp_preds)\n",
        "    # Sample the next word using the temperature-modified predictions\n",
        "    next_index = np.argmax(np.random.multinomial(1, preds, 1))\n",
        "    next_word = list(tokenizer.word_index.keys())[list(tokenizer.word_index.values()).index(next_index)]\n",
        "    generated_text += \" \" + next_word\n",
        "    # Generate the remaining words\n",
        "    for i in range(num_gen_words-1):\n",
        "        input_sequence = [tokenizer.word_index[word] for word in generated_text.split()[-max_length:]]\n",
        "        input_sequence = pad_sequences([input_sequence], maxlen=max_length, padding='pre')\n",
        "        preds = model.predict(input_sequence, verbose=0)[0]\n",
        "        preds = np.asarray(preds).astype('float64')\n",
        "        preds = np.log(preds) / temperature\n",
        "        exp_preds = np.exp(preds)\n",
        "        preds = exp_preds / np.sum(exp_preds)\n",
        "        next_index = np.argmax(np.random.multinomial(1, preds, 1))\n",
        "        next_word = list(tokenizer.word_index.keys())[list(tokenizer.word_index.values()).index(next_index)]\n",
        "        generated_text += \" \" + next_word\n",
        "    return generated_text\n"
      ],
      "metadata": {
        "id": "Yd34vGxpxlRg"
      },
      "execution_count": null,
      "outputs": []
    },
    {
      "cell_type": "code",
      "source": [
        "# set the hyperparameters\n",
        "max_length = 4 \n",
        "num_gen_words = 4 "
      ],
      "metadata": {
        "id": "Lf9k1W7PQd7e"
      },
      "execution_count": null,
      "outputs": []
    },
    {
      "cell_type": "code",
      "source": [
        "# get the tokenizer\n",
        "tokenizer = tokenize(lines)"
      ],
      "metadata": {
        "id": "_Vg-4PBKQ2YW"
      },
      "execution_count": null,
      "outputs": []
    },
    {
      "cell_type": "code",
      "source": [
        "# get the vocabulary size\n",
        "vocabulary_size = get_vocabulary_size(tokenizer)"
      ],
      "metadata": {
        "id": "UaPfXRJsQ5GA"
      },
      "execution_count": null,
      "outputs": []
    },
    {
      "cell_type": "code",
      "source": [
        "# get the sequences\n",
        "sequences = get_sequence(tokenizer, max_length, lines)"
      ],
      "metadata": {
        "id": "wfXUjLw1Q6Du"
      },
      "execution_count": null,
      "outputs": []
    },
    {
      "cell_type": "code",
      "source": [
        "# split the sequences into input and output\n",
        "sequences = np.array(sequences)\n",
        "X, y = sequences[:,:-1], sequences[:,-1]"
      ],
      "metadata": {
        "id": "dTbfmQ8QQ8TO"
      },
      "execution_count": null,
      "outputs": []
    },
    {
      "cell_type": "code",
      "source": [
        "# one hot encode the target\n",
        "y = tf.keras.utils.to_categorical(y, num_classes=vocabulary_size)"
      ],
      "metadata": {
        "id": "BCjtpNGwQ-Oe"
      },
      "execution_count": null,
      "outputs": []
    },
    {
      "cell_type": "code",
      "source": [
        "#split the data into train and test sets\n",
        "total_data = X.shape[0]\n",
        "split_point = int(total_data * 0.8)\n",
        "X_train, X_test = X[:split_point], X[split_point:]\n",
        "y_train, y_test = y[:split_point], y[split_point:]"
      ],
      "metadata": {
        "id": "aBSYyXOTRBCW"
      },
      "execution_count": null,
      "outputs": []
    },
    {
      "cell_type": "code",
      "source": [
        "#define the model option 1\n",
        "model = Sequential()\n",
        "model.add(Embedding(vocabulary_size, 10, input_length=max_length - 1))\n",
        "model.add(LSTM(50))\n",
        "model.add(Dropout(0.1))\n",
        "model.add(Dense(vocabulary_size, activation='softmax'))\n",
        "print(model.summary())"
      ],
      "metadata": {
        "id": "3YPTjejERNjq"
      },
      "execution_count": null,
      "outputs": []
    },
    {
      "cell_type": "code",
      "source": [
        "#define the model option 2\n",
        "model = Sequential()\n",
        "model.add(Embedding(vocabulary_size, 200, input_length=max_length-1))\n",
        "model.add(Bidirectional(LSTM(100)))\n",
        "model.add(Dense(100, activation='relu'))\n",
        "model.add(Dense(vocabulary_size, activation='softmax'))\n",
        "print(model.summary())"
      ],
      "metadata": {
        "id": "QGBlYuzBiXQ1",
        "colab": {
          "base_uri": "https://localhost:8080/"
        },
        "outputId": "111a8b76-b9b2-4ed6-fe50-286a785dd425"
      },
      "execution_count": null,
      "outputs": [
        {
          "output_type": "stream",
          "name": "stdout",
          "text": [
            "Model: \"sequential_4\"\n",
            "_________________________________________________________________\n",
            " Layer (type)                Output Shape              Param #   \n",
            "=================================================================\n",
            " embedding_4 (Embedding)     (None, 4, 200)            4447600   \n",
            "                                                                 \n",
            " bidirectional_4 (Bidirectio  (None, 200)              240800    \n",
            " nal)                                                            \n",
            "                                                                 \n",
            " dense_8 (Dense)             (None, 100)               20100     \n",
            "                                                                 \n",
            " dense_9 (Dense)             (None, 22238)             2246038   \n",
            "                                                                 \n",
            "=================================================================\n",
            "Total params: 6,954,538\n",
            "Trainable params: 6,954,538\n",
            "Non-trainable params: 0\n",
            "_________________________________________________________________\n",
            "None\n"
          ]
        }
      ]
    },
    {
      "cell_type": "code",
      "source": [
        "#define the model option 3\n",
        "model = Sequential()\n",
        "model.add(Embedding(vocabulary_size, 100, input_length=max_length-1))\n",
        "model.add(LSTM(100))\n",
        "model.add(Dense(vocabulary_size, activation='softmax'))\n",
        "print(model.summary())"
      ],
      "metadata": {
        "colab": {
          "base_uri": "https://localhost:8080/"
        },
        "id": "REGkoBRuTcUv",
        "outputId": "2c7a223a-b6be-48fc-d7f3-d44e571f087e"
      },
      "execution_count": null,
      "outputs": [
        {
          "output_type": "stream",
          "name": "stdout",
          "text": [
            "Model: \"sequential\"\n",
            "_________________________________________________________________\n",
            " Layer (type)                Output Shape              Param #   \n",
            "=================================================================\n",
            " embedding (Embedding)       (None, 7, 100)            54900     \n",
            "                                                                 \n",
            " lstm (LSTM)                 (None, 100)               80400     \n",
            "                                                                 \n",
            " dense (Dense)               (None, 549)               55449     \n",
            "                                                                 \n",
            "=================================================================\n",
            "Total params: 190,749\n",
            "Trainable params: 190,749\n",
            "Non-trainable params: 0\n",
            "_________________________________________________________________\n",
            "None\n"
          ]
        }
      ]
    },
    {
      "cell_type": "code",
      "source": [
        "from tensorflow.keras.layers import Embedding, LSTM, Dense, Bidirectional"
      ],
      "metadata": {
        "id": "_L80szNxixGD"
      },
      "execution_count": null,
      "outputs": []
    },
    {
      "cell_type": "code",
      "source": [
        "# Create the model\n",
        "model = Sequential()\n",
        "model.add(Embedding(len(tokenizer.word_index)+1, 64, input_length=max_length))\n",
        "model.add(Bidirectional(LSTM(20)))\n",
        "model.add(Dense(32, activation='relu'))\n",
        "model.add(Dense(len(tokenizer.word_index)+1, activation='softmax'))\n",
        "print(model.summary())"
      ],
      "metadata": {
        "colab": {
          "base_uri": "https://localhost:8080/"
        },
        "id": "RIB1tI-Dikek",
        "outputId": "bf59b0a0-755d-41a4-a8c6-14fe32d59a5d"
      },
      "execution_count": null,
      "outputs": [
        {
          "output_type": "stream",
          "name": "stdout",
          "text": [
            "Model: \"sequential_2\"\n",
            "_________________________________________________________________\n",
            " Layer (type)                Output Shape              Param #   \n",
            "=================================================================\n",
            " embedding_2 (Embedding)     (None, 5, 64)             1423232   \n",
            "                                                                 \n",
            " bidirectional_2 (Bidirectio  (None, 40)               13600     \n",
            " nal)                                                            \n",
            "                                                                 \n",
            " dense_4 (Dense)             (None, 32)                1312      \n",
            "                                                                 \n",
            " dense_5 (Dense)             (None, 22238)             733854    \n",
            "                                                                 \n",
            "=================================================================\n",
            "Total params: 2,171,998\n",
            "Trainable params: 2,171,998\n",
            "Non-trainable params: 0\n",
            "_________________________________________________________________\n",
            "None\n"
          ]
        }
      ]
    },
    {
      "cell_type": "code",
      "source": [
        "#compile the model\n",
        "model.compile(loss='categorical_crossentropy', optimizer='adam', metrics=['accuracy'])"
      ],
      "metadata": {
        "id": "_f1WZ0ouRRoA"
      },
      "execution_count": null,
      "outputs": []
    },
    {
      "cell_type": "code",
      "source": [
        "# Save the trained model\n",
        "model.save(\"model.h5\")"
      ],
      "metadata": {
        "id": "-isb-LTTwidG"
      },
      "execution_count": null,
      "outputs": []
    },
    {
      "cell_type": "code",
      "source": [
        "#set the early stopping criteria alt\n",
        "earlystop = EarlyStopping(monitor='val_loss', min_delta=0, patience=5, verbose=0, mode='auto')"
      ],
      "metadata": {
        "id": "T5MT-806Tqw6"
      },
      "execution_count": null,
      "outputs": []
    },
    {
      "cell_type": "code",
      "source": [
        "#fit the model alt\n",
        "model.fit(X, y, batch_size=32, epochs=20, verbose=1, callbacks=[earlystop])"
      ],
      "metadata": {
        "colab": {
          "base_uri": "https://localhost:8080/"
        },
        "id": "Bo3-10S4T2gQ",
        "outputId": "fbc52205-1e9e-4b86-9ef2-cbfe4216d4e0"
      },
      "execution_count": null,
      "outputs": [
        {
          "output_type": "stream",
          "name": "stdout",
          "text": [
            "Epoch 1/20\n",
            "823/826 [============================>.] - ETA: 0s - loss: 6.9158 - accuracy: 0.0370"
          ]
        },
        {
          "output_type": "stream",
          "name": "stderr",
          "text": [
            "WARNING:tensorflow:Early stopping conditioned on metric `val_loss` which is not available. Available metrics are: loss,accuracy\n"
          ]
        },
        {
          "output_type": "stream",
          "name": "stdout",
          "text": [
            "\b\b\b\b\b\b\b\b\b\b\b\b\b\b\b\b\b\b\b\b\b\b\b\b\b\b\b\b\b\b\b\b\b\b\b\b\b\b\b\b\b\b\b\b\b\b\b\b\b\b\b\b\b\b\b\b\b\b\b\b\b\b\b\b\b\b\b\b\b\b\b\b\b\b\b\b\b\b\b\b\b\b\b\b\r826/826 [==============================] - 14s 13ms/step - loss: 6.9156 - accuracy: 0.0369\n",
            "Epoch 2/20\n",
            "823/826 [============================>.] - ETA: 0s - loss: 5.7124 - accuracy: 0.1201"
          ]
        },
        {
          "output_type": "stream",
          "name": "stderr",
          "text": [
            "WARNING:tensorflow:Early stopping conditioned on metric `val_loss` which is not available. Available metrics are: loss,accuracy\n"
          ]
        },
        {
          "output_type": "stream",
          "name": "stdout",
          "text": [
            "\b\b\b\b\b\b\b\b\b\b\b\b\b\b\b\b\b\b\b\b\b\b\b\b\b\b\b\b\b\b\b\b\b\b\b\b\b\b\b\b\b\b\b\b\b\b\b\b\b\b\b\b\b\b\b\b\b\b\b\b\b\b\b\b\b\b\b\b\b\b\b\b\b\b\b\b\b\b\b\b\b\b\b\b\r826/826 [==============================] - 11s 13ms/step - loss: 5.7125 - accuracy: 0.1204\n",
            "Epoch 3/20\n",
            "823/826 [============================>.] - ETA: 0s - loss: 4.8265 - accuracy: 0.2223"
          ]
        },
        {
          "output_type": "stream",
          "name": "stderr",
          "text": [
            "WARNING:tensorflow:Early stopping conditioned on metric `val_loss` which is not available. Available metrics are: loss,accuracy\n"
          ]
        },
        {
          "output_type": "stream",
          "name": "stdout",
          "text": [
            "\b\b\b\b\b\b\b\b\b\b\b\b\b\b\b\b\b\b\b\b\b\b\b\b\b\b\b\b\b\b\b\b\b\b\b\b\b\b\b\b\b\b\b\b\b\b\b\b\b\b\b\b\b\b\b\b\b\b\b\b\b\b\b\b\b\b\b\b\b\b\b\b\b\b\b\b\b\b\b\b\b\b\b\b\r826/826 [==============================] - 11s 13ms/step - loss: 4.8244 - accuracy: 0.2226\n",
            "Epoch 4/20\n",
            "823/826 [============================>.] - ETA: 0s - loss: 4.0718 - accuracy: 0.3092"
          ]
        },
        {
          "output_type": "stream",
          "name": "stderr",
          "text": [
            "WARNING:tensorflow:Early stopping conditioned on metric `val_loss` which is not available. Available metrics are: loss,accuracy\n"
          ]
        },
        {
          "output_type": "stream",
          "name": "stdout",
          "text": [
            "\b\b\b\b\b\b\b\b\b\b\b\b\b\b\b\b\b\b\b\b\b\b\b\b\b\b\b\b\b\b\b\b\b\b\b\b\b\b\b\b\b\b\b\b\b\b\b\b\b\b\b\b\b\b\b\b\b\b\b\b\b\b\b\b\b\b\b\b\b\b\b\b\b\b\b\b\b\b\b\b\b\b\b\b\r826/826 [==============================] - 11s 13ms/step - loss: 4.0726 - accuracy: 0.3092\n",
            "Epoch 5/20\n",
            "823/826 [============================>.] - ETA: 0s - loss: 3.4320 - accuracy: 0.3855"
          ]
        },
        {
          "output_type": "stream",
          "name": "stderr",
          "text": [
            "WARNING:tensorflow:Early stopping conditioned on metric `val_loss` which is not available. Available metrics are: loss,accuracy\n"
          ]
        },
        {
          "output_type": "stream",
          "name": "stdout",
          "text": [
            "\b\b\b\b\b\b\b\b\b\b\b\b\b\b\b\b\b\b\b\b\b\b\b\b\b\b\b\b\b\b\b\b\b\b\b\b\b\b\b\b\b\b\b\b\b\b\b\b\b\b\b\b\b\b\b\b\b\b\b\b\b\b\b\b\b\b\b\b\b\b\b\b\b\b\b\b\b\b\b\b\b\b\b\b\r826/826 [==============================] - 11s 13ms/step - loss: 3.4323 - accuracy: 0.3853\n",
            "Epoch 6/20\n",
            "826/826 [==============================] - ETA: 0s - loss: 2.8708 - accuracy: 0.4593"
          ]
        },
        {
          "output_type": "stream",
          "name": "stderr",
          "text": [
            "WARNING:tensorflow:Early stopping conditioned on metric `val_loss` which is not available. Available metrics are: loss,accuracy\n"
          ]
        },
        {
          "output_type": "stream",
          "name": "stdout",
          "text": [
            "\b\b\b\b\b\b\b\b\b\b\b\b\b\b\b\b\b\b\b\b\b\b\b\b\b\b\b\b\b\b\b\b\b\b\b\b\b\b\b\b\b\b\b\b\b\b\b\b\b\b\b\b\b\b\b\b\b\b\b\b\b\b\b\b\b\b\b\b\b\b\b\b\b\b\b\b\b\b\b\b\b\b\b\b\r826/826 [==============================] - 11s 13ms/step - loss: 2.8708 - accuracy: 0.4593\n",
            "Epoch 7/20\n",
            "826/826 [==============================] - ETA: 0s - loss: 2.3870 - accuracy: 0.5272"
          ]
        },
        {
          "output_type": "stream",
          "name": "stderr",
          "text": [
            "WARNING:tensorflow:Early stopping conditioned on metric `val_loss` which is not available. Available metrics are: loss,accuracy\n"
          ]
        },
        {
          "output_type": "stream",
          "name": "stdout",
          "text": [
            "\b\b\b\b\b\b\b\b\b\b\b\b\b\b\b\b\b\b\b\b\b\b\b\b\b\b\b\b\b\b\b\b\b\b\b\b\b\b\b\b\b\b\b\b\b\b\b\b\b\b\b\b\b\b\b\b\b\b\b\b\b\b\b\b\b\b\b\b\b\b\b\b\b\b\b\b\b\b\b\b\b\b\b\b\r826/826 [==============================] - 11s 13ms/step - loss: 2.3870 - accuracy: 0.5272\n",
            "Epoch 8/20\n",
            "824/826 [============================>.] - ETA: 0s - loss: 1.9638 - accuracy: 0.5908"
          ]
        },
        {
          "output_type": "stream",
          "name": "stderr",
          "text": [
            "WARNING:tensorflow:Early stopping conditioned on metric `val_loss` which is not available. Available metrics are: loss,accuracy\n"
          ]
        },
        {
          "output_type": "stream",
          "name": "stdout",
          "text": [
            "\b\b\b\b\b\b\b\b\b\b\b\b\b\b\b\b\b\b\b\b\b\b\b\b\b\b\b\b\b\b\b\b\b\b\b\b\b\b\b\b\b\b\b\b\b\b\b\b\b\b\b\b\b\b\b\b\b\b\b\b\b\b\b\b\b\b\b\b\b\b\b\b\b\b\b\b\b\b\b\b\b\b\b\b\r826/826 [==============================] - 10s 13ms/step - loss: 1.9637 - accuracy: 0.5907\n",
            "Epoch 9/20\n",
            "822/826 [============================>.] - ETA: 0s - loss: 1.6017 - accuracy: 0.6464"
          ]
        },
        {
          "output_type": "stream",
          "name": "stderr",
          "text": [
            "WARNING:tensorflow:Early stopping conditioned on metric `val_loss` which is not available. Available metrics are: loss,accuracy\n"
          ]
        },
        {
          "output_type": "stream",
          "name": "stdout",
          "text": [
            "\b\b\b\b\b\b\b\b\b\b\b\b\b\b\b\b\b\b\b\b\b\b\b\b\b\b\b\b\b\b\b\b\b\b\b\b\b\b\b\b\b\b\b\b\b\b\b\b\b\b\b\b\b\b\b\b\b\b\b\b\b\b\b\b\b\b\b\b\b\b\b\b\b\b\b\b\b\b\b\b\b\b\b\b\r826/826 [==============================] - 11s 13ms/step - loss: 1.6026 - accuracy: 0.6462\n",
            "Epoch 10/20\n",
            "825/826 [============================>.] - ETA: 0s - loss: 1.2909 - accuracy: 0.7000"
          ]
        },
        {
          "output_type": "stream",
          "name": "stderr",
          "text": [
            "WARNING:tensorflow:Early stopping conditioned on metric `val_loss` which is not available. Available metrics are: loss,accuracy\n"
          ]
        },
        {
          "output_type": "stream",
          "name": "stdout",
          "text": [
            "\b\b\b\b\b\b\b\b\b\b\b\b\b\b\b\b\b\b\b\b\b\b\b\b\b\b\b\b\b\b\b\b\b\b\b\b\b\b\b\b\b\b\b\b\b\b\b\b\b\b\b\b\b\b\b\b\b\b\b\b\b\b\b\b\b\b\b\b\b\b\b\b\b\b\b\b\b\b\b\b\b\b\b\b\r826/826 [==============================] - 11s 13ms/step - loss: 1.2910 - accuracy: 0.7000\n",
            "Epoch 11/20\n",
            "823/826 [============================>.] - ETA: 0s - loss: 1.0258 - accuracy: 0.7504"
          ]
        },
        {
          "output_type": "stream",
          "name": "stderr",
          "text": [
            "WARNING:tensorflow:Early stopping conditioned on metric `val_loss` which is not available. Available metrics are: loss,accuracy\n"
          ]
        },
        {
          "output_type": "stream",
          "name": "stdout",
          "text": [
            "\b\b\b\b\b\b\b\b\b\b\b\b\b\b\b\b\b\b\b\b\b\b\b\b\b\b\b\b\b\b\b\b\b\b\b\b\b\b\b\b\b\b\b\b\b\b\b\b\b\b\b\b\b\b\b\b\b\b\b\b\b\b\b\b\b\b\b\b\b\b\b\b\b\b\b\b\b\b\b\b\b\b\b\b\r826/826 [==============================] - 11s 13ms/step - loss: 1.0258 - accuracy: 0.7503\n",
            "Epoch 12/20\n",
            "823/826 [============================>.] - ETA: 0s - loss: 0.7990 - accuracy: 0.7967"
          ]
        },
        {
          "output_type": "stream",
          "name": "stderr",
          "text": [
            "WARNING:tensorflow:Early stopping conditioned on metric `val_loss` which is not available. Available metrics are: loss,accuracy\n"
          ]
        },
        {
          "output_type": "stream",
          "name": "stdout",
          "text": [
            "\b\b\b\b\b\b\b\b\b\b\b\b\b\b\b\b\b\b\b\b\b\b\b\b\b\b\b\b\b\b\b\b\b\b\b\b\b\b\b\b\b\b\b\b\b\b\b\b\b\b\b\b\b\b\b\b\b\b\b\b\b\b\b\b\b\b\b\b\b\b\b\b\b\b\b\b\b\b\b\b\b\b\b\b\r826/826 [==============================] - 11s 13ms/step - loss: 0.7985 - accuracy: 0.7968\n",
            "Epoch 13/20\n",
            "826/826 [==============================] - ETA: 0s - loss: 0.6212 - accuracy: 0.8368"
          ]
        },
        {
          "output_type": "stream",
          "name": "stderr",
          "text": [
            "WARNING:tensorflow:Early stopping conditioned on metric `val_loss` which is not available. Available metrics are: loss,accuracy\n"
          ]
        },
        {
          "output_type": "stream",
          "name": "stdout",
          "text": [
            "\b\b\b\b\b\b\b\b\b\b\b\b\b\b\b\b\b\b\b\b\b\b\b\b\b\b\b\b\b\b\b\b\b\b\b\b\b\b\b\b\b\b\b\b\b\b\b\b\b\b\b\b\b\b\b\b\b\b\b\b\b\b\b\b\b\b\b\b\b\b\b\b\b\b\b\b\b\b\b\b\b\b\b\b\r826/826 [==============================] - 10s 13ms/step - loss: 0.6212 - accuracy: 0.8368\n",
            "Epoch 14/20\n",
            "822/826 [============================>.] - ETA: 0s - loss: 0.4838 - accuracy: 0.8711"
          ]
        },
        {
          "output_type": "stream",
          "name": "stderr",
          "text": [
            "WARNING:tensorflow:Early stopping conditioned on metric `val_loss` which is not available. Available metrics are: loss,accuracy\n"
          ]
        },
        {
          "output_type": "stream",
          "name": "stdout",
          "text": [
            "\b\b\b\b\b\b\b\b\b\b\b\b\b\b\b\b\b\b\b\b\b\b\b\b\b\b\b\b\b\b\b\b\b\b\b\b\b\b\b\b\b\b\b\b\b\b\b\b\b\b\b\b\b\b\b\b\b\b\b\b\b\b\b\b\b\b\b\b\b\b\b\b\b\b\b\b\b\b\b\b\b\b\b\b\r826/826 [==============================] - 11s 13ms/step - loss: 0.4835 - accuracy: 0.8710\n",
            "Epoch 15/20\n",
            "822/826 [============================>.] - ETA: 0s - loss: 0.3827 - accuracy: 0.8949"
          ]
        },
        {
          "output_type": "stream",
          "name": "stderr",
          "text": [
            "WARNING:tensorflow:Early stopping conditioned on metric `val_loss` which is not available. Available metrics are: loss,accuracy\n"
          ]
        },
        {
          "output_type": "stream",
          "name": "stdout",
          "text": [
            "\b\b\b\b\b\b\b\b\b\b\b\b\b\b\b\b\b\b\b\b\b\b\b\b\b\b\b\b\b\b\b\b\b\b\b\b\b\b\b\b\b\b\b\b\b\b\b\b\b\b\b\b\b\b\b\b\b\b\b\b\b\b\b\b\b\b\b\b\b\b\b\b\b\b\b\b\b\b\b\b\b\b\b\b\r826/826 [==============================] - 11s 13ms/step - loss: 0.3831 - accuracy: 0.8949\n",
            "Epoch 16/20\n",
            "825/826 [============================>.] - ETA: 0s - loss: 0.3116 - accuracy: 0.9096"
          ]
        },
        {
          "output_type": "stream",
          "name": "stderr",
          "text": [
            "WARNING:tensorflow:Early stopping conditioned on metric `val_loss` which is not available. Available metrics are: loss,accuracy\n"
          ]
        },
        {
          "output_type": "stream",
          "name": "stdout",
          "text": [
            "\b\b\b\b\b\b\b\b\b\b\b\b\b\b\b\b\b\b\b\b\b\b\b\b\b\b\b\b\b\b\b\b\b\b\b\b\b\b\b\b\b\b\b\b\b\b\b\b\b\b\b\b\b\b\b\b\b\b\b\b\b\b\b\b\b\b\b\b\b\b\b\b\b\b\b\b\b\b\b\b\b\b\b\b\r826/826 [==============================] - 11s 13ms/step - loss: 0.3114 - accuracy: 0.9097\n",
            "Epoch 17/20\n",
            "823/826 [============================>.] - ETA: 0s - loss: 0.2667 - accuracy: 0.9243"
          ]
        },
        {
          "output_type": "stream",
          "name": "stderr",
          "text": [
            "WARNING:tensorflow:Early stopping conditioned on metric `val_loss` which is not available. Available metrics are: loss,accuracy\n"
          ]
        },
        {
          "output_type": "stream",
          "name": "stdout",
          "text": [
            "\b\b\b\b\b\b\b\b\b\b\b\b\b\b\b\b\b\b\b\b\b\b\b\b\b\b\b\b\b\b\b\b\b\b\b\b\b\b\b\b\b\b\b\b\b\b\b\b\b\b\b\b\b\b\b\b\b\b\b\b\b\b\b\b\b\b\b\b\b\b\b\b\b\b\b\b\b\b\b\b\b\b\b\b\r826/826 [==============================] - 11s 13ms/step - loss: 0.2670 - accuracy: 0.9241\n",
            "Epoch 18/20\n",
            "825/826 [============================>.] - ETA: 0s - loss: 0.2318 - accuracy: 0.9321"
          ]
        },
        {
          "output_type": "stream",
          "name": "stderr",
          "text": [
            "WARNING:tensorflow:Early stopping conditioned on metric `val_loss` which is not available. Available metrics are: loss,accuracy\n"
          ]
        },
        {
          "output_type": "stream",
          "name": "stdout",
          "text": [
            "\b\b\b\b\b\b\b\b\b\b\b\b\b\b\b\b\b\b\b\b\b\b\b\b\b\b\b\b\b\b\b\b\b\b\b\b\b\b\b\b\b\b\b\b\b\b\b\b\b\b\b\b\b\b\b\b\b\b\b\b\b\b\b\b\b\b\b\b\b\b\b\b\b\b\b\b\b\b\b\b\b\b\b\b\r826/826 [==============================] - 11s 13ms/step - loss: 0.2317 - accuracy: 0.9322\n",
            "Epoch 19/20\n",
            "823/826 [============================>.] - ETA: 0s - loss: 0.1947 - accuracy: 0.9408"
          ]
        },
        {
          "output_type": "stream",
          "name": "stderr",
          "text": [
            "WARNING:tensorflow:Early stopping conditioned on metric `val_loss` which is not available. Available metrics are: loss,accuracy\n"
          ]
        },
        {
          "output_type": "stream",
          "name": "stdout",
          "text": [
            "\b\b\b\b\b\b\b\b\b\b\b\b\b\b\b\b\b\b\b\b\b\b\b\b\b\b\b\b\b\b\b\b\b\b\b\b\b\b\b\b\b\b\b\b\b\b\b\b\b\b\b\b\b\b\b\b\b\b\b\b\b\b\b\b\b\b\b\b\b\b\b\b\b\b\b\b\b\b\b\b\b\b\b\b\r826/826 [==============================] - 11s 13ms/step - loss: 0.1945 - accuracy: 0.9409\n",
            "Epoch 20/20\n",
            "822/826 [============================>.] - ETA: 0s - loss: 0.1766 - accuracy: 0.9459"
          ]
        },
        {
          "output_type": "stream",
          "name": "stderr",
          "text": [
            "WARNING:tensorflow:Early stopping conditioned on metric `val_loss` which is not available. Available metrics are: loss,accuracy\n"
          ]
        },
        {
          "output_type": "stream",
          "name": "stdout",
          "text": [
            "\b\b\b\b\b\b\b\b\b\b\b\b\b\b\b\b\b\b\b\b\b\b\b\b\b\b\b\b\b\b\b\b\b\b\b\b\b\b\b\b\b\b\b\b\b\b\b\b\b\b\b\b\b\b\b\b\b\b\b\b\b\b\b\b\b\b\b\b\b\b\b\b\b\b\b\b\b\b\b\b\b\b\b\b\r826/826 [==============================] - 11s 13ms/step - loss: 0.1767 - accuracy: 0.9457\n"
          ]
        },
        {
          "output_type": "execute_result",
          "data": {
            "text/plain": [
              "<keras.callbacks.History at 0x7fbfad9db1c0>"
            ]
          },
          "metadata": {},
          "execution_count": 120
        }
      ]
    },
    {
      "cell_type": "code",
      "source": [
        "#evaluate the model alt\n",
        "_, accuracy = model.evaluate(X, y, verbose=0)\n",
        "print(\"Accuracy: %.2f\" % (accuracy*100))"
      ],
      "metadata": {
        "colab": {
          "base_uri": "https://localhost:8080/"
        },
        "id": "h4lyERIxT97G",
        "outputId": "89e6b680-241a-4ed4-d2a5-5d6b01b42476"
      },
      "execution_count": null,
      "outputs": [
        {
          "output_type": "stream",
          "name": "stdout",
          "text": [
            "Accuracy: 97.95\n"
          ]
        }
      ]
    },
    {
      "cell_type": "code",
      "source": [
        "#generate a title\n",
        "\n",
        "seed_text = \"ජනපතිට\"\n",
        "generated_title = generate_text(model, tokenizer, max_length-1, seed_text, num_gen_words)\n",
        "print(\"Generated Title:\")\n",
        "print(generated_title)"
      ],
      "metadata": {
        "colab": {
          "base_uri": "https://localhost:8080/"
        },
        "id": "KrUr0S3iWxoe",
        "outputId": "5ed21b83-fa1a-4131-bc8a-0581944a2777"
      },
      "execution_count": null,
      "outputs": [
        {
          "output_type": "stream",
          "name": "stdout",
          "text": [
            "Generated Title:\n",
            "ජනපතිට වාරණයක් හමුවේ කණ්ඩායමක් ඉවතට\n"
          ]
        },
        {
          "output_type": "stream",
          "name": "stderr",
          "text": [
            "<ipython-input-95-88c1599a1727>:12: RuntimeWarning: divide by zero encountered in log\n",
            "  preds = np.log(preds) / temperature\n",
            "<ipython-input-95-88c1599a1727>:25: RuntimeWarning: divide by zero encountered in log\n",
            "  preds = np.log(preds) / temperature\n"
          ]
        }
      ]
    },
    {
      "cell_type": "code",
      "source": [
        "seed_text = \"ට්‍රම්ප්\"\n",
        "generated_title = generate_text(model, tokenizer, max_length-1, seed_text, num_gen_words, temperature=0.5)\n",
        "print(\"Generated Title:\")\n",
        "print(generated_title)"
      ],
      "metadata": {
        "colab": {
          "base_uri": "https://localhost:8080/"
        },
        "id": "WWCoAujVywQb",
        "outputId": "3d92799b-39ac-4fe8-cfd9-885ae6ddf89b"
      },
      "execution_count": null,
      "outputs": [
        {
          "output_type": "stream",
          "name": "stdout",
          "text": [
            "Generated Title:\n",
            "ට්‍රම්ප් නවසීලන්තයට යයි ඡායාරූප සහිතයි\n"
          ]
        },
        {
          "output_type": "stream",
          "name": "stderr",
          "text": [
            "<ipython-input-95-88c1599a1727>:25: RuntimeWarning: divide by zero encountered in log\n",
            "  preds = np.log(preds) / temperature\n"
          ]
        }
      ]
    },
    {
      "cell_type": "code",
      "source": [
        "from google.colab import drive\n",
        "drive.mount('/content/gdrive')"
      ],
      "metadata": {
        "colab": {
          "base_uri": "https://localhost:8080/"
        },
        "id": "mHlkupUrvm2_",
        "outputId": "cdd209b2-57b3-438c-e171-081e81bb9d8a"
      },
      "execution_count": null,
      "outputs": [
        {
          "output_type": "stream",
          "name": "stdout",
          "text": [
            "Mounted at /content/gdrive\n"
          ]
        }
      ]
    },
    {
      "cell_type": "code",
      "source": [
        "import shutil\n",
        "colab_link = \"/content/model.h5\"\n",
        "gdrive_link = \"/content/gdrive/MyDrive/ffd\"\n",
        "shutil.copy(colab_link, gdrive_link)"
      ],
      "metadata": {
        "colab": {
          "base_uri": "https://localhost:8080/",
          "height": 35
        },
        "id": "VjV00Lpcv1Af",
        "outputId": "ae10e685-9104-485e-a94c-4d9945631af0"
      },
      "execution_count": null,
      "outputs": [
        {
          "output_type": "execute_result",
          "data": {
            "text/plain": [
              "'/content/gdrive/MyDrive/ffd/model.h5'"
            ],
            "application/vnd.google.colaboratory.intrinsic+json": {
              "type": "string"
            }
          },
          "metadata": {},
          "execution_count": 83
        }
      ]
    }
  ]
}